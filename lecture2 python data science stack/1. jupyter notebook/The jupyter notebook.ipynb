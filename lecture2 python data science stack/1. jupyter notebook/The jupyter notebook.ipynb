{
 "cells": [
  {
   "cell_type": "markdown",
   "metadata": {},
   "source": [
    "# Learning Jupyter Notebook"
   ]
  },
  {
   "cell_type": "code",
   "execution_count": 1,
   "metadata": {},
   "outputs": [
    {
     "data": {
      "text/plain": [
       "42"
      ]
     },
     "execution_count": 1,
     "metadata": {},
     "output_type": "execute_result"
    }
   ],
   "source": [
    "40 + 2"
   ]
  },
  {
   "cell_type": "markdown",
   "metadata": {},
   "source": [
    "## import library"
   ]
  },
  {
   "cell_type": "code",
   "execution_count": 2,
   "metadata": {
    "collapsed": true
   },
   "outputs": [],
   "source": [
    "import numpy as np"
   ]
  },
  {
   "cell_type": "code",
   "execution_count": 3,
   "metadata": {},
   "outputs": [
    {
     "data": {
      "text/plain": [
       "0.89399666360055785"
      ]
     },
     "execution_count": 3,
     "metadata": {},
     "output_type": "execute_result"
    }
   ],
   "source": [
    "np.sin(90)"
   ]
  },
  {
   "cell_type": "markdown",
   "metadata": {},
   "source": [
    "## get library documentation"
   ]
  },
  {
   "cell_type": "code",
   "execution_count": 4,
   "metadata": {
    "collapsed": true
   },
   "outputs": [],
   "source": [
    "np.sin?"
   ]
  },
  {
   "cell_type": "code",
   "execution_count": 5,
   "metadata": {
    "collapsed": true
   },
   "outputs": [],
   "source": [
    "np.any??"
   ]
  },
  {
   "cell_type": "markdown",
   "metadata": {},
   "source": [
    "## magic commands"
   ]
  },
  {
   "cell_type": "code",
   "execution_count": 1,
   "metadata": {},
   "outputs": [
    {
     "data": {
      "text/plain": [
       "'/home/burin/Documents/sidtechtalent/lecture2 python data science stack/1. jupyter notebook'"
      ]
     },
     "execution_count": 1,
     "metadata": {},
     "output_type": "execute_result"
    }
   ],
   "source": [
    "%pwd"
   ]
  },
  {
   "cell_type": "code",
   "execution_count": 7,
   "metadata": {},
   "outputs": [
    {
     "name": "stdout",
     "output_type": "stream",
     "text": [
      "CPU times: user 0 ns, sys: 0 ns, total: 0 ns\n",
      "Wall time: 5.25 µs\n",
      "-0.958924274663\n",
      "-0.958924274663\n",
      "-0.958924274663\n",
      "-0.958924274663\n",
      "-0.958924274663\n"
     ]
    }
   ],
   "source": [
    "import numpy as np\n",
    "%time\n",
    "for i in range(5):\n",
    "    print(np.sin(5))"
   ]
  },
  {
   "cell_type": "code",
   "execution_count": 5,
   "metadata": {
    "collapsed": true
   },
   "outputs": [],
   "source": [
    "%magic"
   ]
  },
  {
   "cell_type": "markdown",
   "metadata": {},
   "source": [
    "## shell commands"
   ]
  },
  {
   "cell_type": "code",
   "execution_count": 8,
   "metadata": {},
   "outputs": [
    {
     "name": "stdout",
     "output_type": "stream",
     "text": [
      "alternatives.log  boot.log\t   kern.log.1\t\t syslog.4.gz\r\n",
      "apport.log\t  bootstrap.log    kern.log.2.gz\t syslog.5.gz\r\n",
      "apport.log.1\t  btmp\t\t   lastlog\t\t syslog.6.gz\r\n",
      "apport.log.2.gz   cups\t\t   lightdm\t\t syslog.7.gz\r\n",
      "apport.log.3.gz   dist-upgrade\t   nvidia-installer.log  unattended-upgrades\r\n",
      "apport.log.4.gz   dmesg\t\t   pm-powersave.log\t upstart\r\n",
      "apport.log.5.gz   dpkg.log\t   pm-suspend.log\t vbox-install.log\r\n",
      "apport.log.6.gz   faillog\t   prime-offload.log\t wtmp\r\n",
      "apport.log.7.gz   fontconfig.log   prime-supported.log\t Xorg.0.log\r\n",
      "apt\t\t  fsck\t\t   speech-dispatcher\t Xorg.0.log.old\r\n",
      "aptitude\t  gpu-manager.log  syslog\t\t Xorg.1.log\r\n",
      "auth.log\t  hp\t\t   syslog.1\t\t Xorg.1.log.old\r\n",
      "auth.log.1\t  installer\t   syslog.2.gz\t\t Xorg.8.log\r\n",
      "auth.log.2.gz\t  kern.log\t   syslog.3.gz\t\t Xorg.8.log.old\r\n"
     ]
    }
   ],
   "source": [
    "!ls /var/log"
   ]
  },
  {
   "cell_type": "code",
   "execution_count": 9,
   "metadata": {},
   "outputs": [
    {
     "name": "stdout",
     "output_type": "stream",
     "text": [
      "alternatives.log  boot.log\t   kern.log.1\t\t syslog.4.gz\r\n",
      "apport.log\t  bootstrap.log    kern.log.2.gz\t syslog.5.gz\r\n",
      "apport.log.1\t  btmp\t\t   lastlog\t\t syslog.6.gz\r\n",
      "apport.log.2.gz   cups\t\t   lightdm\t\t syslog.7.gz\r\n",
      "apport.log.3.gz   dist-upgrade\t   nvidia-installer.log  unattended-upgrades\r\n",
      "apport.log.4.gz   dmesg\t\t   pm-powersave.log\t upstart\r\n",
      "apport.log.5.gz   dpkg.log\t   pm-suspend.log\t vbox-install.log\r\n",
      "apport.log.6.gz   faillog\t   prime-offload.log\t wtmp\r\n",
      "apport.log.7.gz   fontconfig.log   prime-supported.log\t Xorg.0.log\r\n",
      "apt\t\t  fsck\t\t   speech-dispatcher\t Xorg.0.log.old\r\n",
      "aptitude\t  gpu-manager.log  syslog\t\t Xorg.1.log\r\n",
      "auth.log\t  hp\t\t   syslog.1\t\t Xorg.1.log.old\r\n",
      "auth.log.1\t  installer\t   syslog.2.gz\t\t Xorg.8.log\r\n",
      "auth.log.2.gz\t  kern.log\t   syslog.3.gz\t\t Xorg.8.log.old\r\n"
     ]
    }
   ],
   "source": [
    "dir_name = '/var/log'\n",
    "!ls $dir_name"
   ]
  },
  {
   "cell_type": "code",
   "execution_count": 13,
   "metadata": {},
   "outputs": [
    {
     "name": "stdout",
     "output_type": "stream",
     "text": [
      "We have 56 files at /var/log\n"
     ]
    }
   ],
   "source": [
    "files = !ls /var/log\n",
    "print('We have {} files at {}'.format(len(files), dir_name))"
   ]
  },
  {
   "cell_type": "markdown",
   "metadata": {},
   "source": [
    "## understand markdown"
   ]
  },
  {
   "cell_type": "markdown",
   "metadata": {},
   "source": [
    "Some text goes here\n",
    "\n",
    "* list\n",
    "* of\n",
    "* item\n",
    "\n",
    "# Head 1\n",
    "\n",
    "## Head 2\n",
    "\n",
    "[Pandas](http://pandas.pydata.org) is awesome.\n",
    "\n",
    "![](https://static.pexels.com/photos/54632/cat-animal-eyes-grey-54632.jpeg)\n",
    "\n",
    "Euler's identity is $e^{i\\pi}+1=0$"
   ]
  },
  {
   "cell_type": "code",
   "execution_count": 14,
   "metadata": {},
   "outputs": [
    {
     "data": {
      "text/plain": [
       "'/var/log'"
      ]
     },
     "execution_count": 14,
     "metadata": {},
     "output_type": "execute_result"
    }
   ],
   "source": [
    "dir_name"
   ]
  },
  {
   "cell_type": "code",
   "execution_count": 15,
   "metadata": {},
   "outputs": [
    {
     "ename": "NameError",
     "evalue": "name 'x' is not defined",
     "output_type": "error",
     "traceback": [
      "\u001b[0;31m---------------------------------------------------------------------------\u001b[0m",
      "\u001b[0;31mNameError\u001b[0m                                 Traceback (most recent call last)",
      "\u001b[0;32m<ipython-input-15-473729dcd804>\u001b[0m in \u001b[0;36m<module>\u001b[0;34m()\u001b[0m\n\u001b[0;32m----> 1\u001b[0;31m \u001b[0my\u001b[0m \u001b[0;34m=\u001b[0m \u001b[0mx\u001b[0m \u001b[0;34m+\u001b[0m \u001b[0;36m7\u001b[0m\u001b[0;34m\u001b[0m\u001b[0m\n\u001b[0m",
      "\u001b[0;31mNameError\u001b[0m: name 'x' is not defined"
     ]
    }
   ],
   "source": [
    "y = x + 7"
   ]
  },
  {
   "cell_type": "code",
   "execution_count": null,
   "metadata": {
    "collapsed": true
   },
   "outputs": [],
   "source": []
  }
 ],
 "metadata": {
  "kernelspec": {
   "display_name": "Python 3",
   "language": "python",
   "name": "python3"
  },
  "language_info": {
   "codemirror_mode": {
    "name": "ipython",
    "version": 3
   },
   "file_extension": ".py",
   "mimetype": "text/x-python",
   "name": "python",
   "nbconvert_exporter": "python",
   "pygments_lexer": "ipython3",
   "version": "3.6.1"
  }
 },
 "nbformat": 4,
 "nbformat_minor": 2
}
